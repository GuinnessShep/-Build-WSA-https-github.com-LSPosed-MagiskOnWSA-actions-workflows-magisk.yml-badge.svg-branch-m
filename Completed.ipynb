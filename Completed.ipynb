{
  "nbformat": 4,
  "nbformat_minor": 0,
  "metadata": {
    "colab": {
      "provenance": [],
      "machine_shape": "hm",
      "authorship_tag": "ABX9TyNMOxqZdUbNkFs8tqR+xb06",
      "include_colab_link": true
    },
    "kernelspec": {
      "name": "python3",
      "display_name": "Python 3"
    },
    "language_info": {
      "name": "python"
    },
    "accelerator": "GPU",
    "gpuClass": "premium"
  },
  "cells": [
    {
      "cell_type": "markdown",
      "metadata": {
        "id": "view-in-github",
        "colab_type": "text"
      },
      "source": [
        "<a href=\"https://colab.research.google.com/github/GuinnessShep/-Build-WSA-https-github.com-LSPosed-MagiskOnWSA-actions-workflows-magisk.yml-badge.svg-branch-m/blob/main/Completed.ipynb\" target=\"_parent\"><img src=\"https://colab.research.google.com/assets/colab-badge.svg\" alt=\"Open In Colab\"/></a>"
      ]
    },
    {
      "cell_type": "code",
      "execution_count": null,
      "metadata": {
        "colab": {
          "base_uri": "https://localhost:8080/"
        },
        "id": "PAGGzE9BtqDn",
        "outputId": "9d638733-b114-4302-9589-319279c1b014"
      },
      "outputs": [
        {
          "output_type": "stream",
          "name": "stdout",
          "text": [
            "Drive already mounted at /content/drive; to attempt to forcibly remount, call drive.mount(\"/content/drive\", force_remount=True).\n"
          ]
        }
      ],
      "source": [
        "from google.colab import drive\n",
        "drive.mount('/content/drive')"
      ]
    },
    {
      "cell_type": "code",
      "source": [
        "!apt-get update\n",
        "!apt-get install -y --no-install-recommends git curl\n",
        "!curl https://repo.anaconda.com/miniconda/Miniconda3-latest-Linux-x86_64.sh -o Miniconda3.sh\n",
        "!bash Miniconda3.sh -bfp /usr/local\n",
        "\n",
        "import sys\n",
        "sys.path.append('/usr/local/lib/python3.7/site-packages/')\n",
        "\n",
        "!conda install -y python=3.10.9\n",
        "!conda install -y accelerate sentencepiece\n",
        "!pip install torch torchvision torchaudio gradio"
      ],
      "metadata": {
        "colab": {
          "base_uri": "https://localhost:8080/"
        },
        "id": "1b4PokTbtu3I",
        "outputId": "3c306ee4-ee9f-4188-cc8d-e09871c60c40"
      },
      "execution_count": null,
      "outputs": [
        {
          "output_type": "stream",
          "name": "stdout",
          "text": [
            "\r0% [Working]\r            \rHit:1 http://ppa.launchpad.net/c2d4u.team/c2d4u4.0+/ubuntu focal InRelease\n",
            "\r0% [Connecting to archive.ubuntu.com (91.189.91.38)] [Waiting for headers] [Con\r                                                                               \rGet:2 http://security.ubuntu.com/ubuntu focal-security InRelease [114 kB]\n",
            "\r0% [Connecting to archive.ubuntu.com (91.189.91.38)] [2 InRelease 34.4 kB/114 k\r                                                                               \rHit:3 https://cloud.r-project.org/bin/linux/ubuntu focal-cran40/ InRelease\n",
            "\r0% [Connecting to archive.ubuntu.com (91.189.91.38)] [2 InRelease 53.3 kB/114 k\r                                                                               \rHit:4 http://ppa.launchpad.net/cran/libgit2/ubuntu focal InRelease\n",
            "\r0% [Connecting to archive.ubuntu.com (91.189.91.38)] [2 InRelease 62.0 kB/114 k\r0% [Connecting to archive.ubuntu.com (91.189.91.38)] [Connecting to ppa.launchp\r                                                                               \rHit:5 http://ppa.launchpad.net/deadsnakes/ppa/ubuntu focal InRelease\n",
            "\r                                                                               \r0% [Connecting to archive.ubuntu.com (91.189.91.38)] [Waiting for headers]\r                                                                          \rHit:6 http://ppa.launchpad.net/graphics-drivers/ppa/ubuntu focal InRelease\n",
            "\r                                                                          \r0% [Waiting for headers] [Waiting for headers]\r                                              \rHit:7 https://developer.download.nvidia.com/compute/cuda/repos/ubuntu2004/x86_64  InRelease\n",
            "\r0% [Waiting for headers] [Connecting to ppa.launchpad.net (185.125.190.52)]\r                                                                           \rHit:8 http://ppa.launchpad.net/ubuntugis/ppa/ubuntu focal InRelease\n",
            "\r                                                                           \r0% [Waiting for headers]\r                        \rHit:9 http://archive.ubuntu.com/ubuntu focal InRelease\n",
            "Get:10 http://archive.ubuntu.com/ubuntu focal-updates InRelease [114 kB]\n",
            "Get:11 http://archive.ubuntu.com/ubuntu focal-backports InRelease [108 kB]\n",
            "Fetched 336 kB in 1s (283 kB/s)\n",
            "Reading package lists... Done\n",
            "Reading package lists... Done\n",
            "Building dependency tree       \n",
            "Reading state information... Done\n",
            "curl is already the newest version (7.68.0-1ubuntu2.18).\n",
            "git is already the newest version (1:2.25.1-1ubuntu3.10).\n",
            "0 upgraded, 0 newly installed, 0 to remove and 24 not upgraded.\n",
            "  % Total    % Received % Xferd  Average Speed   Time    Time     Time  Current\n",
            "                                 Dload  Upload   Total   Spent    Left  Speed\n",
            "100 70.9M  100 70.9M    0     0   292M      0 --:--:-- --:--:-- --:--:--  292M\n",
            "PREFIX=/usr/local\n",
            "Unpacking payload ...\n",
            "                                                                                                     \n",
            "Installing base environment...\n",
            "\n",
            "\n",
            "Downloading and Extracting Packages\n",
            "\n",
            "\n",
            "Downloading and Extracting Packages\n",
            "\n",
            "Preparing transaction: - \b\b\\ \b\bdone\n",
            "Executing transaction: / \b\b- \b\b\\ \b\b| \b\b/ \b\b- \b\b\\ \b\b| \b\b/ \b\bdone\n",
            "installation finished.\n",
            "WARNING:\n",
            "    You currently have a PYTHONPATH environment variable set. This may cause\n",
            "    unexpected behavior when running the Python interpreter in Miniconda3.\n",
            "    For best results, please verify that your PYTHONPATH only points to\n",
            "    directories of packages that are compatible with the Python interpreter\n",
            "    in Miniconda3: /usr/local\n",
            "Collecting package metadata (current_repodata.json): - \b\b\\ \b\b| \b\b/ \b\b- \b\b\\ \b\b| \b\b/ \b\b- \b\b\\ \b\b| \b\b/ \b\b- \b\b\\ \b\b| \b\b/ \b\b- \b\b\\ \b\b| \b\b/ \b\b- \b\b\\ \b\b| \b\b/ \b\b- \b\b\\ \b\b| \b\b/ \b\b- \b\bdone\n",
            "Solving environment: | \b\b/ \b\b- \b\b\\ \b\b| \b\bdone\n",
            "\n",
            "## Package Plan ##\n",
            "\n",
            "  environment location: /usr/local\n",
            "\n",
            "  added / updated specs:\n",
            "    - python=3.10.9\n",
            "\n",
            "\n",
            "The following packages will be UPDATED:\n",
            "\n",
            "  conda                              23.1.0-py310h06a4308_0 --> 23.3.1-py310h06a4308_0 \n",
            "  openssl                                 1.1.1s-h7f8727e_0 --> 1.1.1t-h7f8727e_0 \n",
            "  python                                  3.10.9-h7a1cb2a_0 --> 3.10.9-h7a1cb2a_2 \n",
            "\n",
            "\n",
            "\n",
            "Downloading and Extracting Packages\n",
            "\n",
            "Preparing transaction: - \b\bdone\n",
            "Verifying transaction: | \b\b/ \b\b- \b\b\\ \b\b| \b\b/ \b\b- \b\bdone\n",
            "Executing transaction: | \b\b/ \b\b- \b\b\\ \b\bdone\n",
            "Collecting package metadata (current_repodata.json): - \b\b\\ \b\b| \b\b/ \b\b- \b\b\\ \b\b| \b\b/ \b\b- \b\b\\ \b\b| \b\b/ \b\b- \b\b\\ \b\b| \b\b/ \b\b- \b\b\\ \b\b| \b\b/ \b\b- \b\b\\ \b\b| \b\b/ \b\b- \b\b\\ \b\bdone\n",
            "Solving environment: / \b\bfailed with initial frozen solve. Retrying with flexible solve.\n",
            "Collecting package metadata (repodata.json): \\ \b\b| \b\b/ \b\b- \b\b\\ \b\b| \b\b/ \b\b- \b\b\\ \b\b| \b\b/ \b\b- \b\b\\ \b\b| \b\b/ \b\b- \b\b\\ \b\b| \b\b/ \b\b- \b\b\\ \b\b| \b\b/ \b\b- \b\b\\ \b\b| \b\b/ \b\b- \b\b\\ \b\b| \b\b/ \b\b- \b\b\\ \b\b| \b\b/ \b\b- \b\b\\ \b\b| \b\b/ \b\b- \b\b\\ \b\b| \b\b/ \b\b- \b\b\\ \b\b| \b\b/ \b\b- \b\b\\ \b\b| \b\b/ \b\b- \b\b\\ \b\b| \b\b/ \b\b- \b\b\\ \b\b| \b\b/ \b\b- \b\b\\ \b\b| \b\b/ \b\b- \b\b\\ \b\b| \b\b/ \b\b- \b\b\\ \b\b| \b\bdone\n",
            "Solving environment: - \b\bfailed with initial frozen solve. Retrying with flexible solve.\n",
            "\n",
            "PackagesNotFoundError: The following packages are not available from current channels:\n",
            "\n",
            "  - accelerate\n",
            "\n",
            "Current channels:\n",
            "\n",
            "  - https://repo.anaconda.com/pkgs/main/linux-64\n",
            "  - https://repo.anaconda.com/pkgs/main/noarch\n",
            "  - https://repo.anaconda.com/pkgs/r/linux-64\n",
            "  - https://repo.anaconda.com/pkgs/r/noarch\n",
            "\n",
            "To search for alternate channels that may provide the conda package you're\n",
            "looking for, navigate to\n",
            "\n",
            "    https://anaconda.org\n",
            "\n",
            "and use the search bar at the top of the page.\n",
            "\n",
            "\n",
            "Looking in indexes: https://pypi.org/simple, https://us-python.pkg.dev/colab-wheels/public/simple/\n",
            "Requirement already satisfied: torch in /usr/local/lib/python3.10/site-packages (2.0.0)\n",
            "Requirement already satisfied: torchvision in /usr/local/lib/python3.10/site-packages (0.15.1)\n",
            "Requirement already satisfied: torchaudio in /usr/local/lib/python3.10/site-packages (2.0.1)\n",
            "Requirement already satisfied: gradio in /usr/local/lib/python3.10/site-packages (3.24.1)\n",
            "Requirement already satisfied: nvidia-cuda-runtime-cu11==11.7.99 in /usr/local/lib/python3.10/site-packages (from torch) (11.7.99)\n",
            "Requirement already satisfied: nvidia-cusolver-cu11==11.4.0.1 in /usr/local/lib/python3.10/site-packages (from torch) (11.4.0.1)\n",
            "Requirement already satisfied: networkx in /usr/local/lib/python3.10/site-packages (from torch) (3.1)\n",
            "Requirement already satisfied: jinja2 in /usr/local/lib/python3.10/site-packages (from torch) (3.1.2)\n",
            "Requirement already satisfied: nvidia-cuda-nvrtc-cu11==11.7.99 in /usr/local/lib/python3.10/site-packages (from torch) (11.7.99)\n",
            "Requirement already satisfied: nvidia-curand-cu11==10.2.10.91 in /usr/local/lib/python3.10/site-packages (from torch) (10.2.10.91)\n",
            "Requirement already satisfied: nvidia-nvtx-cu11==11.7.91 in /usr/local/lib/python3.10/site-packages (from torch) (11.7.91)\n",
            "Requirement already satisfied: nvidia-cusparse-cu11==11.7.4.91 in /usr/local/lib/python3.10/site-packages (from torch) (11.7.4.91)\n",
            "Requirement already satisfied: nvidia-cufft-cu11==10.9.0.58 in /usr/local/lib/python3.10/site-packages (from torch) (10.9.0.58)\n",
            "Requirement already satisfied: typing-extensions in /usr/local/lib/python3.10/site-packages (from torch) (4.5.0)\n",
            "Requirement already satisfied: sympy in /usr/local/lib/python3.10/site-packages (from torch) (1.11.1)\n",
            "Requirement already satisfied: nvidia-cublas-cu11==11.10.3.66 in /usr/local/lib/python3.10/site-packages (from torch) (11.10.3.66)\n",
            "Requirement already satisfied: nvidia-cuda-cupti-cu11==11.7.101 in /usr/local/lib/python3.10/site-packages (from torch) (11.7.101)\n",
            "Requirement already satisfied: nvidia-cudnn-cu11==8.5.0.96 in /usr/local/lib/python3.10/site-packages (from torch) (8.5.0.96)\n",
            "Requirement already satisfied: filelock in /usr/local/lib/python3.10/site-packages (from torch) (3.11.0)\n",
            "Requirement already satisfied: triton==2.0.0 in /usr/local/lib/python3.10/site-packages (from torch) (2.0.0)\n",
            "Requirement already satisfied: nvidia-nccl-cu11==2.14.3 in /usr/local/lib/python3.10/site-packages (from torch) (2.14.3)\n",
            "Requirement already satisfied: wheel in /usr/local/lib/python3.10/site-packages (from nvidia-cublas-cu11==11.10.3.66->torch) (0.37.1)\n",
            "Requirement already satisfied: setuptools in /usr/local/lib/python3.10/site-packages (from nvidia-cublas-cu11==11.10.3.66->torch) (65.6.3)\n",
            "Requirement already satisfied: cmake in /usr/local/lib/python3.10/site-packages (from triton==2.0.0->torch) (3.26.3)\n",
            "Requirement already satisfied: lit in /usr/local/lib/python3.10/site-packages (from triton==2.0.0->torch) (16.0.1)\n",
            "Requirement already satisfied: numpy in /usr/local/lib/python3.10/site-packages (from torchvision) (1.24.2)\n",
            "Requirement already satisfied: pillow!=8.3.*,>=5.3.0 in /usr/local/lib/python3.10/site-packages (from torchvision) (9.5.0)\n",
            "Requirement already satisfied: requests in /usr/local/lib/python3.10/site-packages (from torchvision) (2.28.1)\n",
            "Requirement already satisfied: uvicorn in /usr/local/lib/python3.10/site-packages (from gradio) (0.21.1)\n",
            "Requirement already satisfied: mdit-py-plugins<=0.3.3 in /usr/local/lib/python3.10/site-packages (from gradio) (0.3.3)\n",
            "Requirement already satisfied: fastapi in /usr/local/lib/python3.10/site-packages (from gradio) (0.95.1)\n",
            "Requirement already satisfied: aiofiles in /usr/local/lib/python3.10/site-packages (from gradio) (23.1.0)\n",
            "Requirement already satisfied: markupsafe in /usr/local/lib/python3.10/site-packages (from gradio) (2.1.2)\n",
            "Requirement already satisfied: pydantic in /usr/local/lib/python3.10/site-packages (from gradio) (1.10.7)\n",
            "Requirement already satisfied: huggingface-hub>=0.13.0 in /usr/local/lib/python3.10/site-packages (from gradio) (0.13.4)\n",
            "Requirement already satisfied: pydub in /usr/local/lib/python3.10/site-packages (from gradio) (0.25.1)\n",
            "Requirement already satisfied: orjson in /usr/local/lib/python3.10/site-packages (from gradio) (3.8.10)\n",
            "Requirement already satisfied: pyyaml in /usr/local/lib/python3.10/site-packages (from gradio) (6.0)\n",
            "Requirement already satisfied: pandas in /usr/local/lib/python3.10/site-packages (from gradio) (2.0.0)\n",
            "Requirement already satisfied: websockets>=10.0 in /usr/local/lib/python3.10/site-packages (from gradio) (11.0.1)\n",
            "Requirement already satisfied: semantic-version in /usr/local/lib/python3.10/site-packages (from gradio) (2.10.0)\n",
            "Requirement already satisfied: httpx in /usr/local/lib/python3.10/site-packages (from gradio) (0.24.0)\n",
            "Requirement already satisfied: gradio-client>=0.0.5 in /usr/local/lib/python3.10/site-packages (from gradio) (0.1.2)\n",
            "Requirement already satisfied: aiohttp in /usr/local/lib/python3.10/site-packages (from gradio) (3.8.4)\n",
            "Requirement already satisfied: python-multipart in /usr/local/lib/python3.10/site-packages (from gradio) (0.0.6)\n",
            "Requirement already satisfied: markdown-it-py[linkify]>=2.0.0 in /usr/local/lib/python3.10/site-packages (from gradio) (2.2.0)\n",
            "Requirement already satisfied: altair>=4.2.0 in /usr/local/lib/python3.10/site-packages (from gradio) (4.2.2)\n",
            "Requirement already satisfied: ffmpy in /usr/local/lib/python3.10/site-packages (from gradio) (0.3.0)\n",
            "Requirement already satisfied: matplotlib in /usr/local/lib/python3.10/site-packages (from gradio) (3.7.1)\n",
            "Requirement already satisfied: entrypoints in /usr/local/lib/python3.10/site-packages (from altair>=4.2.0->gradio) (0.4)\n",
            "Requirement already satisfied: jsonschema>=3.0 in /usr/local/lib/python3.10/site-packages (from altair>=4.2.0->gradio) (4.17.3)\n",
            "Requirement already satisfied: toolz in /usr/local/lib/python3.10/site-packages (from altair>=4.2.0->gradio) (0.12.0)\n",
            "Requirement already satisfied: fsspec in /usr/local/lib/python3.10/site-packages (from gradio-client>=0.0.5->gradio) (2023.4.0)\n",
            "Requirement already satisfied: packaging in /usr/local/lib/python3.10/site-packages (from gradio-client>=0.0.5->gradio) (23.0)\n",
            "Requirement already satisfied: tqdm>=4.42.1 in /usr/local/lib/python3.10/site-packages (from huggingface-hub>=0.13.0->gradio) (4.64.1)\n",
            "Requirement already satisfied: mdurl~=0.1 in /usr/local/lib/python3.10/site-packages (from markdown-it-py[linkify]>=2.0.0->gradio) (0.1.2)\n",
            "Requirement already satisfied: linkify-it-py<3,>=1 in /usr/local/lib/python3.10/site-packages (from markdown-it-py[linkify]>=2.0.0->gradio) (2.0.0)\n",
            "Requirement already satisfied: tzdata>=2022.1 in /usr/local/lib/python3.10/site-packages (from pandas->gradio) (2023.3)\n",
            "Requirement already satisfied: python-dateutil>=2.8.2 in /usr/local/lib/python3.10/site-packages (from pandas->gradio) (2.8.2)\n",
            "Requirement already satisfied: pytz>=2020.1 in /usr/local/lib/python3.10/site-packages (from pandas->gradio) (2023.3)\n",
            "Requirement already satisfied: yarl<2.0,>=1.0 in /usr/local/lib/python3.10/site-packages (from aiohttp->gradio) (1.8.2)\n",
            "Requirement already satisfied: multidict<7.0,>=4.5 in /usr/local/lib/python3.10/site-packages (from aiohttp->gradio) (6.0.4)\n",
            "Requirement already satisfied: frozenlist>=1.1.1 in /usr/local/lib/python3.10/site-packages (from aiohttp->gradio) (1.3.3)\n",
            "Requirement already satisfied: charset-normalizer<4.0,>=2.0 in /usr/local/lib/python3.10/site-packages (from aiohttp->gradio) (2.0.4)\n",
            "Requirement already satisfied: async-timeout<5.0,>=4.0.0a3 in /usr/local/lib/python3.10/site-packages (from aiohttp->gradio) (4.0.2)\n",
            "Requirement already satisfied: attrs>=17.3.0 in /usr/local/lib/python3.10/site-packages (from aiohttp->gradio) (22.2.0)\n",
            "Requirement already satisfied: aiosignal>=1.1.2 in /usr/local/lib/python3.10/site-packages (from aiohttp->gradio) (1.3.1)\n",
            "Requirement already satisfied: starlette<0.27.0,>=0.26.1 in /usr/local/lib/python3.10/site-packages (from fastapi->gradio) (0.26.1)\n",
            "Requirement already satisfied: sniffio in /usr/local/lib/python3.10/site-packages (from httpx->gradio) (1.3.0)\n",
            "Requirement already satisfied: httpcore<0.18.0,>=0.15.0 in /usr/local/lib/python3.10/site-packages (from httpx->gradio) (0.17.0)\n",
            "Requirement already satisfied: idna in /usr/local/lib/python3.10/site-packages (from httpx->gradio) (3.4)\n",
            "Requirement already satisfied: certifi in /usr/local/lib/python3.10/site-packages (from httpx->gradio) (2022.12.7)\n",
            "Requirement already satisfied: pyparsing>=2.3.1 in /usr/local/lib/python3.10/site-packages (from matplotlib->gradio) (3.0.9)\n",
            "Requirement already satisfied: kiwisolver>=1.0.1 in /usr/local/lib/python3.10/site-packages (from matplotlib->gradio) (1.4.4)\n",
            "Requirement already satisfied: cycler>=0.10 in /usr/local/lib/python3.10/site-packages (from matplotlib->gradio) (0.11.0)\n",
            "Requirement already satisfied: contourpy>=1.0.1 in /usr/local/lib/python3.10/site-packages (from matplotlib->gradio) (1.0.7)\n",
            "Requirement already satisfied: fonttools>=4.22.0 in /usr/local/lib/python3.10/site-packages (from matplotlib->gradio) (4.39.3)\n",
            "Requirement already satisfied: urllib3<1.27,>=1.21.1 in /usr/local/lib/python3.10/site-packages (from requests->torchvision) (1.26.14)\n",
            "Requirement already satisfied: mpmath>=0.19 in /usr/local/lib/python3.10/site-packages (from sympy->torch) (1.3.0)\n",
            "Requirement already satisfied: click>=7.0 in /usr/local/lib/python3.10/site-packages (from uvicorn->gradio) (8.1.3)\n",
            "Requirement already satisfied: h11>=0.8 in /usr/local/lib/python3.10/site-packages (from uvicorn->gradio) (0.14.0)\n",
            "Requirement already satisfied: anyio<5.0,>=3.0 in /usr/local/lib/python3.10/site-packages (from httpcore<0.18.0,>=0.15.0->httpx->gradio) (3.6.2)\n",
            "Requirement already satisfied: pyrsistent!=0.17.0,!=0.17.1,!=0.17.2,>=0.14.0 in /usr/local/lib/python3.10/site-packages (from jsonschema>=3.0->altair>=4.2.0->gradio) (0.19.3)\n",
            "Requirement already satisfied: uc-micro-py in /usr/local/lib/python3.10/site-packages (from linkify-it-py<3,>=1->markdown-it-py[linkify]>=2.0.0->gradio) (1.0.1)\n",
            "Requirement already satisfied: six>=1.5 in /usr/local/lib/python3.10/site-packages (from python-dateutil>=2.8.2->pandas->gradio) (1.16.0)\n",
            "\u001b[33mWARNING: Running pip as the 'root' user can result in broken permissions and conflicting behaviour with the system package manager. It is recommended to use a virtual environment instead: https://pip.pypa.io/warnings/venv\u001b[0m\u001b[33m\n",
            "\u001b[0m"
          ]
        }
      ]
    },
    {
      "cell_type": "code",
      "source": [
        "%cd /content/drive/MyDrive/aiweb\n",
        "!git clone https://github.com/oobabooga/text-generation-webui\n",
        "%cd text-generation-webui\n",
        "!pip install -r requirements.txt\n",
        "!pip install deepspeed"
      ],
      "metadata": {
        "colab": {
          "base_uri": "https://localhost:8080/"
        },
        "id": "DPMUGEE2tyvB",
        "outputId": "4833c9af-496a-446c-b2d0-2dd252ee70ff"
      },
      "execution_count": null,
      "outputs": [
        {
          "output_type": "stream",
          "name": "stdout",
          "text": [
            "/content/drive/MyDrive/aiweb\n",
            "fatal: destination path 'text-generation-webui' already exists and is not an empty directory.\n",
            "/content/drive/MyDrive/aiweb/text-generation-webui\n",
            "Looking in indexes: https://pypi.org/simple, https://us-python.pkg.dev/colab-wheels/public/simple/\n",
            "Collecting git+https://github.com/huggingface/peft (from -r requirements.txt (line 14))\n",
            "  Cloning https://github.com/huggingface/peft to /tmp/pip-req-build-rfh8rwth\n",
            "  Running command git clone --filter=blob:none --quiet https://github.com/huggingface/peft /tmp/pip-req-build-rfh8rwth\n",
            "  Resolved https://github.com/huggingface/peft to commit b21559e042555a8370f4b3cf1ad581c45291cf15\n",
            "  Installing build dependencies ... \u001b[?25l\u001b[?25hdone\n",
            "  Getting requirements to build wheel ... \u001b[?25l\u001b[?25hdone\n",
            "  Preparing metadata (pyproject.toml) ... \u001b[?25l\u001b[?25hdone\n",
            "Ignoring llama-cpp-python: markers 'platform_system == \"Windows\"' don't match your environment\n",
            "Requirement already satisfied: accelerate==0.18.0 in /usr/local/lib/python3.10/site-packages (from -r requirements.txt (line 1)) (0.18.0)\n",
            "Requirement already satisfied: datasets in /usr/local/lib/python3.10/site-packages (from -r requirements.txt (line 2)) (2.11.0)\n",
            "Requirement already satisfied: flexgen==0.1.7 in /usr/local/lib/python3.10/site-packages (from -r requirements.txt (line 3)) (0.1.7)\n",
            "Requirement already satisfied: gradio==3.24.1 in /usr/local/lib/python3.10/site-packages (from -r requirements.txt (line 4)) (3.24.1)\n",
            "Requirement already satisfied: markdown in /usr/local/lib/python3.10/site-packages (from -r requirements.txt (line 5)) (3.4.3)\n",
            "Requirement already satisfied: numpy in /usr/local/lib/python3.10/site-packages (from -r requirements.txt (line 6)) (1.24.2)\n",
            "Requirement already satisfied: Pillow>=9.5.0 in /usr/local/lib/python3.10/site-packages (from -r requirements.txt (line 7)) (9.5.0)\n",
            "Requirement already satisfied: requests in /usr/local/lib/python3.10/site-packages (from -r requirements.txt (line 8)) (2.28.1)\n",
            "Requirement already satisfied: rwkv==0.7.3 in /usr/local/lib/python3.10/site-packages (from -r requirements.txt (line 9)) (0.7.3)\n",
            "Requirement already satisfied: safetensors==0.3.0 in /usr/local/lib/python3.10/site-packages (from -r requirements.txt (line 10)) (0.3.0)\n",
            "Requirement already satisfied: sentencepiece in /usr/local/lib/python3.10/site-packages (from -r requirements.txt (line 11)) (0.1.98)\n",
            "Requirement already satisfied: pyyaml in /usr/local/lib/python3.10/site-packages (from -r requirements.txt (line 12)) (6.0)\n",
            "Requirement already satisfied: tqdm in /usr/local/lib/python3.10/site-packages (from -r requirements.txt (line 13)) (4.64.1)\n",
            "Requirement already satisfied: transformers==4.28.0 in /usr/local/lib/python3.10/site-packages (from -r requirements.txt (line 15)) (4.28.0)\n",
            "Requirement already satisfied: bitsandbytes==0.38.1 in /usr/local/lib/python3.10/site-packages (from -r requirements.txt (line 16)) (0.38.1)\n",
            "Requirement already satisfied: llama-cpp-python==0.1.33 in /usr/local/lib/python3.10/site-packages (from -r requirements.txt (line 17)) (0.1.33)\n",
            "Requirement already satisfied: torch>=1.4.0 in /usr/local/lib/python3.10/site-packages (from accelerate==0.18.0->-r requirements.txt (line 1)) (2.0.0)\n",
            "Requirement already satisfied: psutil in /usr/local/lib/python3.10/site-packages (from accelerate==0.18.0->-r requirements.txt (line 1)) (5.9.4)\n",
            "Requirement already satisfied: packaging>=20.0 in /usr/local/lib/python3.10/site-packages (from accelerate==0.18.0->-r requirements.txt (line 1)) (23.0)\n",
            "Requirement already satisfied: pulp in /usr/local/lib/python3.10/site-packages (from flexgen==0.1.7->-r requirements.txt (line 3)) (2.7.0)\n",
            "Requirement already satisfied: attrs in /usr/local/lib/python3.10/site-packages (from flexgen==0.1.7->-r requirements.txt (line 3)) (22.2.0)\n",
            "Requirement already satisfied: uvicorn in /usr/local/lib/python3.10/site-packages (from gradio==3.24.1->-r requirements.txt (line 4)) (0.21.1)\n",
            "Requirement already satisfied: altair>=4.2.0 in /usr/local/lib/python3.10/site-packages (from gradio==3.24.1->-r requirements.txt (line 4)) (4.2.2)\n",
            "Requirement already satisfied: pydub in /usr/local/lib/python3.10/site-packages (from gradio==3.24.1->-r requirements.txt (line 4)) (0.25.1)\n",
            "Requirement already satisfied: markupsafe in /usr/local/lib/python3.10/site-packages (from gradio==3.24.1->-r requirements.txt (line 4)) (2.1.2)\n",
            "Requirement already satisfied: orjson in /usr/local/lib/python3.10/site-packages (from gradio==3.24.1->-r requirements.txt (line 4)) (3.8.10)\n",
            "Requirement already satisfied: markdown-it-py[linkify]>=2.0.0 in /usr/local/lib/python3.10/site-packages (from gradio==3.24.1->-r requirements.txt (line 4)) (2.2.0)\n",
            "Requirement already satisfied: matplotlib in /usr/local/lib/python3.10/site-packages (from gradio==3.24.1->-r requirements.txt (line 4)) (3.7.1)\n",
            "Requirement already satisfied: gradio-client>=0.0.5 in /usr/local/lib/python3.10/site-packages (from gradio==3.24.1->-r requirements.txt (line 4)) (0.1.2)\n",
            "Requirement already satisfied: fastapi in /usr/local/lib/python3.10/site-packages (from gradio==3.24.1->-r requirements.txt (line 4)) (0.95.1)\n",
            "Requirement already satisfied: typing-extensions in /usr/local/lib/python3.10/site-packages (from gradio==3.24.1->-r requirements.txt (line 4)) (4.5.0)\n",
            "Requirement already satisfied: websockets>=10.0 in /usr/local/lib/python3.10/site-packages (from gradio==3.24.1->-r requirements.txt (line 4)) (11.0.1)\n",
            "Requirement already satisfied: pandas in /usr/local/lib/python3.10/site-packages (from gradio==3.24.1->-r requirements.txt (line 4)) (2.0.0)\n",
            "Requirement already satisfied: python-multipart in /usr/local/lib/python3.10/site-packages (from gradio==3.24.1->-r requirements.txt (line 4)) (0.0.6)\n",
            "Requirement already satisfied: jinja2 in /usr/local/lib/python3.10/site-packages (from gradio==3.24.1->-r requirements.txt (line 4)) (3.1.2)\n",
            "Requirement already satisfied: aiofiles in /usr/local/lib/python3.10/site-packages (from gradio==3.24.1->-r requirements.txt (line 4)) (23.1.0)\n",
            "Requirement already satisfied: semantic-version in /usr/local/lib/python3.10/site-packages (from gradio==3.24.1->-r requirements.txt (line 4)) (2.10.0)\n",
            "Requirement already satisfied: mdit-py-plugins<=0.3.3 in /usr/local/lib/python3.10/site-packages (from gradio==3.24.1->-r requirements.txt (line 4)) (0.3.3)\n",
            "Requirement already satisfied: ffmpy in /usr/local/lib/python3.10/site-packages (from gradio==3.24.1->-r requirements.txt (line 4)) (0.3.0)\n",
            "Requirement already satisfied: aiohttp in /usr/local/lib/python3.10/site-packages (from gradio==3.24.1->-r requirements.txt (line 4)) (3.8.4)\n",
            "Requirement already satisfied: httpx in /usr/local/lib/python3.10/site-packages (from gradio==3.24.1->-r requirements.txt (line 4)) (0.24.0)\n",
            "Requirement already satisfied: huggingface-hub>=0.13.0 in /usr/local/lib/python3.10/site-packages (from gradio==3.24.1->-r requirements.txt (line 4)) (0.13.4)\n",
            "Requirement already satisfied: pydantic in /usr/local/lib/python3.10/site-packages (from gradio==3.24.1->-r requirements.txt (line 4)) (1.10.7)\n",
            "Requirement already satisfied: tokenizers>=0.13.2 in /usr/local/lib/python3.10/site-packages (from rwkv==0.7.3->-r requirements.txt (line 9)) (0.13.3)\n",
            "Requirement already satisfied: regex!=2019.12.17 in /usr/local/lib/python3.10/site-packages (from transformers==4.28.0->-r requirements.txt (line 15)) (2023.3.23)\n",
            "Requirement already satisfied: filelock in /usr/local/lib/python3.10/site-packages (from transformers==4.28.0->-r requirements.txt (line 15)) (3.11.0)\n",
            "Requirement already satisfied: dill<0.3.7,>=0.3.0 in /usr/local/lib/python3.10/site-packages (from datasets->-r requirements.txt (line 2)) (0.3.6)\n",
            "Requirement already satisfied: multiprocess in /usr/local/lib/python3.10/site-packages (from datasets->-r requirements.txt (line 2)) (0.70.14)\n",
            "Requirement already satisfied: responses<0.19 in /usr/local/lib/python3.10/site-packages (from datasets->-r requirements.txt (line 2)) (0.18.0)\n",
            "Requirement already satisfied: xxhash in /usr/local/lib/python3.10/site-packages (from datasets->-r requirements.txt (line 2)) (3.2.0)\n",
            "Requirement already satisfied: fsspec[http]>=2021.11.1 in /usr/local/lib/python3.10/site-packages (from datasets->-r requirements.txt (line 2)) (2023.4.0)\n",
            "Requirement already satisfied: pyarrow>=8.0.0 in /usr/local/lib/python3.10/site-packages (from datasets->-r requirements.txt (line 2)) (11.0.0)\n",
            "Requirement already satisfied: charset-normalizer<3,>=2 in /usr/local/lib/python3.10/site-packages (from requests->-r requirements.txt (line 8)) (2.0.4)\n",
            "Requirement already satisfied: idna<4,>=2.5 in /usr/local/lib/python3.10/site-packages (from requests->-r requirements.txt (line 8)) (3.4)\n",
            "Requirement already satisfied: certifi>=2017.4.17 in /usr/local/lib/python3.10/site-packages (from requests->-r requirements.txt (line 8)) (2022.12.7)\n",
            "Requirement already satisfied: urllib3<1.27,>=1.21.1 in /usr/local/lib/python3.10/site-packages (from requests->-r requirements.txt (line 8)) (1.26.14)\n",
            "Requirement already satisfied: toolz in /usr/local/lib/python3.10/site-packages (from altair>=4.2.0->gradio==3.24.1->-r requirements.txt (line 4)) (0.12.0)\n",
            "Requirement already satisfied: entrypoints in /usr/local/lib/python3.10/site-packages (from altair>=4.2.0->gradio==3.24.1->-r requirements.txt (line 4)) (0.4)\n",
            "Requirement already satisfied: jsonschema>=3.0 in /usr/local/lib/python3.10/site-packages (from altair>=4.2.0->gradio==3.24.1->-r requirements.txt (line 4)) (4.17.3)\n",
            "Requirement already satisfied: yarl<2.0,>=1.0 in /usr/local/lib/python3.10/site-packages (from aiohttp->gradio==3.24.1->-r requirements.txt (line 4)) (1.8.2)\n",
            "Requirement already satisfied: async-timeout<5.0,>=4.0.0a3 in /usr/local/lib/python3.10/site-packages (from aiohttp->gradio==3.24.1->-r requirements.txt (line 4)) (4.0.2)\n",
            "Requirement already satisfied: aiosignal>=1.1.2 in /usr/local/lib/python3.10/site-packages (from aiohttp->gradio==3.24.1->-r requirements.txt (line 4)) (1.3.1)\n",
            "Requirement already satisfied: multidict<7.0,>=4.5 in /usr/local/lib/python3.10/site-packages (from aiohttp->gradio==3.24.1->-r requirements.txt (line 4)) (6.0.4)\n",
            "Requirement already satisfied: frozenlist>=1.1.1 in /usr/local/lib/python3.10/site-packages (from aiohttp->gradio==3.24.1->-r requirements.txt (line 4)) (1.3.3)\n",
            "Requirement already satisfied: mdurl~=0.1 in /usr/local/lib/python3.10/site-packages (from markdown-it-py[linkify]>=2.0.0->gradio==3.24.1->-r requirements.txt (line 4)) (0.1.2)\n",
            "Requirement already satisfied: linkify-it-py<3,>=1 in /usr/local/lib/python3.10/site-packages (from markdown-it-py[linkify]>=2.0.0->gradio==3.24.1->-r requirements.txt (line 4)) (2.0.0)\n",
            "Requirement already satisfied: pytz>=2020.1 in /usr/local/lib/python3.10/site-packages (from pandas->gradio==3.24.1->-r requirements.txt (line 4)) (2023.3)\n",
            "Requirement already satisfied: python-dateutil>=2.8.2 in /usr/local/lib/python3.10/site-packages (from pandas->gradio==3.24.1->-r requirements.txt (line 4)) (2.8.2)\n",
            "Requirement already satisfied: tzdata>=2022.1 in /usr/local/lib/python3.10/site-packages (from pandas->gradio==3.24.1->-r requirements.txt (line 4)) (2023.3)\n",
            "Requirement already satisfied: nvidia-cuda-nvrtc-cu11==11.7.99 in /usr/local/lib/python3.10/site-packages (from torch>=1.4.0->accelerate==0.18.0->-r requirements.txt (line 1)) (11.7.99)\n",
            "Requirement already satisfied: nvidia-cuda-runtime-cu11==11.7.99 in /usr/local/lib/python3.10/site-packages (from torch>=1.4.0->accelerate==0.18.0->-r requirements.txt (line 1)) (11.7.99)\n",
            "Requirement already satisfied: nvidia-nccl-cu11==2.14.3 in /usr/local/lib/python3.10/site-packages (from torch>=1.4.0->accelerate==0.18.0->-r requirements.txt (line 1)) (2.14.3)\n",
            "Requirement already satisfied: nvidia-cusparse-cu11==11.7.4.91 in /usr/local/lib/python3.10/site-packages (from torch>=1.4.0->accelerate==0.18.0->-r requirements.txt (line 1)) (11.7.4.91)\n",
            "Requirement already satisfied: nvidia-nvtx-cu11==11.7.91 in /usr/local/lib/python3.10/site-packages (from torch>=1.4.0->accelerate==0.18.0->-r requirements.txt (line 1)) (11.7.91)\n",
            "Requirement already satisfied: nvidia-cudnn-cu11==8.5.0.96 in /usr/local/lib/python3.10/site-packages (from torch>=1.4.0->accelerate==0.18.0->-r requirements.txt (line 1)) (8.5.0.96)\n",
            "Requirement already satisfied: nvidia-cublas-cu11==11.10.3.66 in /usr/local/lib/python3.10/site-packages (from torch>=1.4.0->accelerate==0.18.0->-r requirements.txt (line 1)) (11.10.3.66)\n",
            "Requirement already satisfied: nvidia-cuda-cupti-cu11==11.7.101 in /usr/local/lib/python3.10/site-packages (from torch>=1.4.0->accelerate==0.18.0->-r requirements.txt (line 1)) (11.7.101)\n",
            "Requirement already satisfied: nvidia-cusolver-cu11==11.4.0.1 in /usr/local/lib/python3.10/site-packages (from torch>=1.4.0->accelerate==0.18.0->-r requirements.txt (line 1)) (11.4.0.1)\n",
            "Requirement already satisfied: nvidia-cufft-cu11==10.9.0.58 in /usr/local/lib/python3.10/site-packages (from torch>=1.4.0->accelerate==0.18.0->-r requirements.txt (line 1)) (10.9.0.58)\n",
            "Requirement already satisfied: sympy in /usr/local/lib/python3.10/site-packages (from torch>=1.4.0->accelerate==0.18.0->-r requirements.txt (line 1)) (1.11.1)\n",
            "Requirement already satisfied: nvidia-curand-cu11==10.2.10.91 in /usr/local/lib/python3.10/site-packages (from torch>=1.4.0->accelerate==0.18.0->-r requirements.txt (line 1)) (10.2.10.91)\n",
            "Requirement already satisfied: triton==2.0.0 in /usr/local/lib/python3.10/site-packages (from torch>=1.4.0->accelerate==0.18.0->-r requirements.txt (line 1)) (2.0.0)\n",
            "Requirement already satisfied: networkx in /usr/local/lib/python3.10/site-packages (from torch>=1.4.0->accelerate==0.18.0->-r requirements.txt (line 1)) (3.1)\n",
            "Requirement already satisfied: wheel in /usr/local/lib/python3.10/site-packages (from nvidia-cublas-cu11==11.10.3.66->torch>=1.4.0->accelerate==0.18.0->-r requirements.txt (line 1)) (0.37.1)\n",
            "Requirement already satisfied: setuptools in /usr/local/lib/python3.10/site-packages (from nvidia-cublas-cu11==11.10.3.66->torch>=1.4.0->accelerate==0.18.0->-r requirements.txt (line 1)) (65.6.3)\n",
            "Requirement already satisfied: cmake in /usr/local/lib/python3.10/site-packages (from triton==2.0.0->torch>=1.4.0->accelerate==0.18.0->-r requirements.txt (line 1)) (3.26.3)\n",
            "Requirement already satisfied: lit in /usr/local/lib/python3.10/site-packages (from triton==2.0.0->torch>=1.4.0->accelerate==0.18.0->-r requirements.txt (line 1)) (16.0.1)\n",
            "Requirement already satisfied: starlette<0.27.0,>=0.26.1 in /usr/local/lib/python3.10/site-packages (from fastapi->gradio==3.24.1->-r requirements.txt (line 4)) (0.26.1)\n",
            "Requirement already satisfied: sniffio in /usr/local/lib/python3.10/site-packages (from httpx->gradio==3.24.1->-r requirements.txt (line 4)) (1.3.0)\n",
            "Requirement already satisfied: httpcore<0.18.0,>=0.15.0 in /usr/local/lib/python3.10/site-packages (from httpx->gradio==3.24.1->-r requirements.txt (line 4)) (0.17.0)\n",
            "Requirement already satisfied: pyparsing>=2.3.1 in /usr/local/lib/python3.10/site-packages (from matplotlib->gradio==3.24.1->-r requirements.txt (line 4)) (3.0.9)\n",
            "Requirement already satisfied: kiwisolver>=1.0.1 in /usr/local/lib/python3.10/site-packages (from matplotlib->gradio==3.24.1->-r requirements.txt (line 4)) (1.4.4)\n",
            "Requirement already satisfied: fonttools>=4.22.0 in /usr/local/lib/python3.10/site-packages (from matplotlib->gradio==3.24.1->-r requirements.txt (line 4)) (4.39.3)\n",
            "Requirement already satisfied: cycler>=0.10 in /usr/local/lib/python3.10/site-packages (from matplotlib->gradio==3.24.1->-r requirements.txt (line 4)) (0.11.0)\n",
            "Requirement already satisfied: contourpy>=1.0.1 in /usr/local/lib/python3.10/site-packages (from matplotlib->gradio==3.24.1->-r requirements.txt (line 4)) (1.0.7)\n",
            "Requirement already satisfied: click>=7.0 in /usr/local/lib/python3.10/site-packages (from uvicorn->gradio==3.24.1->-r requirements.txt (line 4)) (8.1.3)\n",
            "Requirement already satisfied: h11>=0.8 in /usr/local/lib/python3.10/site-packages (from uvicorn->gradio==3.24.1->-r requirements.txt (line 4)) (0.14.0)\n",
            "Requirement already satisfied: anyio<5.0,>=3.0 in /usr/local/lib/python3.10/site-packages (from httpcore<0.18.0,>=0.15.0->httpx->gradio==3.24.1->-r requirements.txt (line 4)) (3.6.2)\n",
            "Requirement already satisfied: pyrsistent!=0.17.0,!=0.17.1,!=0.17.2,>=0.14.0 in /usr/local/lib/python3.10/site-packages (from jsonschema>=3.0->altair>=4.2.0->gradio==3.24.1->-r requirements.txt (line 4)) (0.19.3)\n",
            "Requirement already satisfied: uc-micro-py in /usr/local/lib/python3.10/site-packages (from linkify-it-py<3,>=1->markdown-it-py[linkify]>=2.0.0->gradio==3.24.1->-r requirements.txt (line 4)) (1.0.1)\n",
            "Requirement already satisfied: six>=1.5 in /usr/local/lib/python3.10/site-packages (from python-dateutil>=2.8.2->pandas->gradio==3.24.1->-r requirements.txt (line 4)) (1.16.0)\n",
            "Requirement already satisfied: mpmath>=0.19 in /usr/local/lib/python3.10/site-packages (from sympy->torch>=1.4.0->accelerate==0.18.0->-r requirements.txt (line 1)) (1.3.0)\n",
            "\u001b[33mWARNING: Running pip as the 'root' user can result in broken permissions and conflicting behaviour with the system package manager. It is recommended to use a virtual environment instead: https://pip.pypa.io/warnings/venv\u001b[0m\u001b[33m\n",
            "\u001b[0mLooking in indexes: https://pypi.org/simple, https://us-python.pkg.dev/colab-wheels/public/simple/\n",
            "Requirement already satisfied: deepspeed in /usr/local/lib/python3.10/site-packages (0.9.0)\n",
            "Requirement already satisfied: torch in /usr/local/lib/python3.10/site-packages (from deepspeed) (2.0.0)\n",
            "Requirement already satisfied: py-cpuinfo in /usr/local/lib/python3.10/site-packages (from deepspeed) (9.0.0)\n",
            "Requirement already satisfied: numpy in /usr/local/lib/python3.10/site-packages (from deepspeed) (1.24.2)\n",
            "Requirement already satisfied: pydantic in /usr/local/lib/python3.10/site-packages (from deepspeed) (1.10.7)\n",
            "Requirement already satisfied: ninja in /usr/local/lib/python3.10/site-packages (from deepspeed) (1.11.1)\n",
            "Requirement already satisfied: psutil in /usr/local/lib/python3.10/site-packages (from deepspeed) (5.9.4)\n",
            "Requirement already satisfied: tqdm in /usr/local/lib/python3.10/site-packages (from deepspeed) (4.64.1)\n",
            "Requirement already satisfied: packaging>=20.0 in /usr/local/lib/python3.10/site-packages (from deepspeed) (23.0)\n",
            "Requirement already satisfied: hjson in /usr/local/lib/python3.10/site-packages (from deepspeed) (3.1.0)\n",
            "Requirement already satisfied: typing-extensions>=4.2.0 in /usr/local/lib/python3.10/site-packages (from pydantic->deepspeed) (4.5.0)\n",
            "Requirement already satisfied: nvidia-cufft-cu11==10.9.0.58 in /usr/local/lib/python3.10/site-packages (from torch->deepspeed) (10.9.0.58)\n",
            "Requirement already satisfied: nvidia-curand-cu11==10.2.10.91 in /usr/local/lib/python3.10/site-packages (from torch->deepspeed) (10.2.10.91)\n",
            "Requirement already satisfied: nvidia-cusolver-cu11==11.4.0.1 in /usr/local/lib/python3.10/site-packages (from torch->deepspeed) (11.4.0.1)\n",
            "Requirement already satisfied: nvidia-nvtx-cu11==11.7.91 in /usr/local/lib/python3.10/site-packages (from torch->deepspeed) (11.7.91)\n",
            "Requirement already satisfied: nvidia-cuda-nvrtc-cu11==11.7.99 in /usr/local/lib/python3.10/site-packages (from torch->deepspeed) (11.7.99)\n",
            "Requirement already satisfied: nvidia-cusparse-cu11==11.7.4.91 in /usr/local/lib/python3.10/site-packages (from torch->deepspeed) (11.7.4.91)\n",
            "Requirement already satisfied: networkx in /usr/local/lib/python3.10/site-packages (from torch->deepspeed) (3.1)\n",
            "Requirement already satisfied: nvidia-nccl-cu11==2.14.3 in /usr/local/lib/python3.10/site-packages (from torch->deepspeed) (2.14.3)\n",
            "Requirement already satisfied: filelock in /usr/local/lib/python3.10/site-packages (from torch->deepspeed) (3.11.0)\n",
            "Requirement already satisfied: nvidia-cuda-runtime-cu11==11.7.99 in /usr/local/lib/python3.10/site-packages (from torch->deepspeed) (11.7.99)\n",
            "Requirement already satisfied: triton==2.0.0 in /usr/local/lib/python3.10/site-packages (from torch->deepspeed) (2.0.0)\n",
            "Requirement already satisfied: sympy in /usr/local/lib/python3.10/site-packages (from torch->deepspeed) (1.11.1)\n",
            "Requirement already satisfied: jinja2 in /usr/local/lib/python3.10/site-packages (from torch->deepspeed) (3.1.2)\n",
            "Requirement already satisfied: nvidia-cuda-cupti-cu11==11.7.101 in /usr/local/lib/python3.10/site-packages (from torch->deepspeed) (11.7.101)\n",
            "Requirement already satisfied: nvidia-cublas-cu11==11.10.3.66 in /usr/local/lib/python3.10/site-packages (from torch->deepspeed) (11.10.3.66)\n",
            "Requirement already satisfied: nvidia-cudnn-cu11==8.5.0.96 in /usr/local/lib/python3.10/site-packages (from torch->deepspeed) (8.5.0.96)\n",
            "Requirement already satisfied: setuptools in /usr/local/lib/python3.10/site-packages (from nvidia-cublas-cu11==11.10.3.66->torch->deepspeed) (65.6.3)\n",
            "Requirement already satisfied: wheel in /usr/local/lib/python3.10/site-packages (from nvidia-cublas-cu11==11.10.3.66->torch->deepspeed) (0.37.1)\n",
            "Requirement already satisfied: cmake in /usr/local/lib/python3.10/site-packages (from triton==2.0.0->torch->deepspeed) (3.26.3)\n",
            "Requirement already satisfied: lit in /usr/local/lib/python3.10/site-packages (from triton==2.0.0->torch->deepspeed) (16.0.1)\n",
            "Requirement already satisfied: MarkupSafe>=2.0 in /usr/local/lib/python3.10/site-packages (from jinja2->torch->deepspeed) (2.1.2)\n",
            "Requirement already satisfied: mpmath>=0.19 in /usr/local/lib/python3.10/site-packages (from sympy->torch->deepspeed) (1.3.0)\n",
            "\u001b[33mWARNING: Running pip as the 'root' user can result in broken permissions and conflicting behaviour with the system package manager. It is recommended to use a virtual environment instead: https://pip.pypa.io/warnings/venv\u001b[0m\u001b[33m\n",
            "\u001b[0m"
          ]
        }
      ]
    },
    {
      "cell_type": "code",
      "source": [
        "import os\n",
        "\n",
        "model_base_path = \"/content/drive/MyDrive/aiweb/text-generation-webui/models\"\n",
        "repoz = [\n",
        "    \"KoboldAI/OPT-30B-Erebus\",\n",
        "    \"decapoda-research/llama-30b-hf\",\n",
        "    \"bigscience/T0pp\",\n",
        "    \"lmsys/vicuna-13b-delta-v0\",\n",
        "    \"eachadea/legacy-vicuna-13b\",\n",
        "    \"eachadea/vicuna-13b-1.1\",\n",
        "]\n",
        "\n",
        "for model in repoz:\n",
        "    model_path = os.path.join(model_base_path, model, \"pytorch_model.bin\")\n",
        "    if not os.path.exists(model_path):\n",
        "        !python download-model.py {model}\n"
      ],
      "metadata": {
        "colab": {
          "base_uri": "https://localhost:8080/"
        },
        "id": "P-awomHIt3c_",
        "outputId": "aeba5f48-688a-4dce-ca00-cf1d8c4d961d"
      },
      "execution_count": null,
      "outputs": [
        {
          "output_type": "stream",
          "name": "stdout",
          "text": [
            "Downloading the model to models/KoboldAI_OPT-30B-Erebus\n",
            "Downloading the model to models/decapoda-research_llama-30b-hf\n",
            "Downloading the model to models/bigscience_T0pp\n",
            "Downloading the model to models/lmsys_vicuna-13b-delta-v0\n",
            "Downloading the model to models/eachadea_legacy-vicuna-13b\n",
            "Downloading the model to models/eachadea_vicuna-13b-1.1\n"
          ]
        }
      ]
    },
    {
      "cell_type": "code",
      "source": [
        "%cd /content/drive/MyDrive/aiweb/text-generation-webui/repositories\n",
        "!rm -r GPTQ-for-LLaMa\n",
        "!pip uninstall quant-cuda\n",
        "!git clone https://github.com/oobabooga/GPTQ-for-LLaMa -b cuda # or any other repository and branch\n",
        "!cd GPTQ-for-LLaMa\n",
        "!python setup_cuda.py install"
      ],
      "metadata": {
        "id": "vtGzSI9KOuiW",
        "colab": {
          "base_uri": "https://localhost:8080/"
        },
        "outputId": "4d4d86d4-31ca-43bd-c8c2-bbcc72c79cef"
      },
      "execution_count": null,
      "outputs": [
        {
          "output_type": "stream",
          "name": "stdout",
          "text": [
            "[Errno 2] No such file or directory: '/content/drive/MyDrive/aiweb/text-generation-webui/repositories'\n",
            "/content/drive/MyDrive/aiweb/text-generation-webui\n",
            "rm: cannot remove 'GPTQ-for-LLaMa': No such file or directory\n",
            "\u001b[33mWARNING: Skipping quant-cuda as it is not installed.\u001b[0m\u001b[33m\n",
            "\u001b[0m\u001b[33mWARNING: Running pip as the 'root' user can result in broken permissions and conflicting behaviour with the system package manager. It is recommended to use a virtual environment instead: https://pip.pypa.io/warnings/venv\u001b[0m\u001b[33m\n",
            "\u001b[0mCloning into 'GPTQ-for-LLaMa'...\n",
            "remote: Enumerating objects: 814, done.\u001b[K\n",
            "remote: Counting objects: 100% (415/415), done.\u001b[K\n",
            "remote: Compressing objects: 100% (28/28), done.\u001b[K\n",
            "remote: Total 814 (delta 396), reused 387 (delta 387), pack-reused 399\u001b[K\n",
            "Receiving objects: 100% (814/814), 468.81 KiB | 1.36 MiB/s, done.\n",
            "Resolving deltas: 100% (493/493), done.\n",
            "python: can't open file '/content/drive/MyDrive/aiweb/text-generation-webui/setup_cuda.py': [Errno 2] No such file or directory\n"
          ]
        }
      ]
    },
    {
      "cell_type": "code",
      "source": [
        "!wget -nc https://github.com/agrinman/tunnelto/releases/download/0.1.18/tunnelto-linux.tar.gz\n",
        "!tar -xvf tunnelto-linux.tar.gz\n",
        "!chmod +x tunnelto"
      ],
      "metadata": {
        "colab": {
          "base_uri": "https://localhost:8080/"
        },
        "id": "eERv9EIvt4We",
        "outputId": "eb674f87-8c3e-4b77-a126-fb1dc039ff7f"
      },
      "execution_count": null,
      "outputs": [
        {
          "output_type": "stream",
          "name": "stdout",
          "text": [
            "File ‘tunnelto-linux.tar.gz’ already there; not retrieving.\n",
            "\n",
            "tunnelto\n"
          ]
        }
      ]
    },
    {
      "cell_type": "code",
      "source": [
        "%%writefile start_servers.sh\n",
        "#!/bin/bash\n",
        "deepspeed --num_gpus=1 python3 server.py --deepspeed --auto-devices --chat &\n",
        "sleep 5\n",
        "./tunnelto set-auth --key CeLFVxWt115kuo54j6HMkb &\n",
        "sleep 5\n",
        "./tunnelto --host 127.0.0.1 --port 7860 --subdomain ieatdoggyshit &\n",
        "while true; do sleep 1; done\n"
      ],
      "metadata": {
        "colab": {
          "base_uri": "https://localhost:8080/"
        },
        "id": "wSy9_mU_t60_",
        "outputId": "4e036f17-077a-41ef-b1ea-2bc557f538c6"
      },
      "execution_count": null,
      "outputs": [
        {
          "output_type": "stream",
          "name": "stdout",
          "text": [
            "Overwriting start_servers.sh\n"
          ]
        }
      ]
    },
    {
      "cell_type": "code",
      "source": [
        "%%writefile start_servers.sh\n",
        "#!/bin/bash\n",
        "python server.py --auto-devices --chat --gpu-memory 17 10 --cpu-memory 80 --xformers --share &\n",
        "sleep 5\n",
        "./tunnelto set-auth --key CeLFVxWt115kuo54j6HMkb &\n",
        "sleep 5\n",
        "./tunnelto --host 127.0.0.1 --port 7860/?__theme=dark --subdomain ieatdoggyshit &\n",
        "while true; do sleep 1; done\n",
        "\n",
        "!chmod +x start_servers.sh\n",
        "\n",
        "import os\n",
        "import pty\n",
        "import subprocess\n",
        "import threading\n",
        "import time\n",
        "import ipywidgets as widgets\n",
        "from IPython.display import display\n",
        "\n",
        "def read_from_shell(fd):\n",
        "    while True:\n",
        "        output = os.read(fd, 1024)\n",
        "        if output:\n",
        "            print(output.decode(), end=\"\")\n",
        "        else:\n",
        "            break\n",
        "\n",
        "master, slave = pty.openpty()\n",
        "start_servers_process = subprocess.Popen([\"./start_servers.sh\"], stdin=slave, stdout=slave, stderr=slave, shell=True)\n",
        "thread = threading.Thread(target=read_from_shell, args=(master,))\n",
        "thread.start()\n",
        "\n",
        "time.sleep(10)  # Wait for the servers to start before sending any command\n",
        "\n",
        "# Create a text input field and a button\n",
        "text_input = widgets.Text(placeholder=\"Enter your command here\", description=\"Command:\")\n",
        "send_button = widgets.Button(description=\"Send Command\")\n",
        "\n",
        "# Define the callback function for the button\n",
        "def send_command(button):\n",
        "    command = text_input.value.strip()\n",
        "    if command:\n",
        "        os.write(master, f\"{command}\\n\".encode())\n",
        "        print(f\"Sent command: {command}\")\n",
        "    else:\n",
        "        print(\"No command entered.\")\n",
        "\n",
        "# Connect the button to the callback function\n",
        "send_button.on_click(send_command)\n",
        "\n",
        "# Display the text input field and the button\n",
        "display(text_input)\n",
        "display(send_button)\n"
      ],
      "metadata": {
        "colab": {
          "base_uri": "https://localhost:8080/"
        },
        "id": "8AsGr3vLB1F_",
        "outputId": "d5e6cfb1-55c0-46d2-feca-8a99ac7fbb8f"
      },
      "execution_count": null,
      "outputs": [
        {
          "output_type": "stream",
          "name": "stdout",
          "text": [
            "Overwriting start_servers.sh\n"
          ]
        }
      ]
    },
    {
      "cell_type": "code",
      "source": [
        "!chmod +x start_servers.sh"
      ],
      "metadata": {
        "id": "sZN73HVrzJPm"
      },
      "execution_count": null,
      "outputs": []
    },
    {
      "cell_type": "code",
      "source": [
        "import os\n",
        "import pty\n",
        "import subprocess\n",
        "import threading\n",
        "import time\n",
        "import ipywidgets as widgets\n",
        "from IPython.display import display\n",
        "\n",
        "def read_from_shell(fd):\n",
        "    while True:\n",
        "        output = os.read(fd, 1024)\n",
        "        if output:\n",
        "            print(output.decode(), end=\"\")\n",
        "        else:\n",
        "            break\n",
        "\n",
        "master, slave = pty.openpty()\n",
        "start_servers_process = subprocess.Popen([\"./start_servers.sh\"], stdin=slave, stdout=slave, stderr=slave, shell=True)\n",
        "thread = threading.Thread(target=read_from_shell, args=(master,))\n",
        "thread.start()\n",
        "\n",
        "# Send command to the background process\n",
        "time.sleep(10)  # Wait for the servers to start before sending any command\n",
        "os.write(master, b\"your_command_here\\n\")  # Replace 'your_command_here' with the actual command you want to send\n",
        "thread.join()\n",
        "\n",
        "# Create a text input field and a button\n",
        "text_input = widgets.Text(placeholder=\"Enter your command here\")\n",
        "send_button = widgets.Button(description=\"Send Command\")\n",
        "\n",
        "# Define the callback function for the button\n",
        "def send_command(button):\n",
        "    command = text_input.value.strip()\n",
        "    if command:\n",
        "        os.write(master, f\"{command}\\n\".encode())\n",
        "        print(f\"Sent command: {command}\")\n",
        "    else:\n",
        "        print(\"No command entered.\")\n",
        "\n",
        "# Connect the button to the callback function\n",
        "send_button.on_click(send_command)\n",
        "\n",
        "# Display the text input field and the button\n",
        "display(text_input)\n",
        "display(send_button)\n",
        "\n"
      ],
      "metadata": {
        "colab": {
          "base_uri": "https://localhost:8080/",
          "height": 683
        },
        "id": "98VIiJ6Gur6l",
        "outputId": "acfd2d3f-d2cd-472c-dad0-0ab1e0a96293"
      },
      "execution_count": null,
      "outputs": [
        {
          "metadata": {
            "tags": null
          },
          "name": "stdout",
          "output_type": "stream",
          "text": [
            "Authentication key stored successfully!\n",
            "your_command_here\n",
            "\u001b[1;31merror:\u001b[0m Invalid value for '\u001b[33m--port <port>\u001b[0m': invalid digit found in string\n",
            "🔴 xformers not found! Please install it before trying to use it.\n",
            "bin /usr/local/lib/python3.10/site-packages/bitsandbytes/libbitsandbytes_cuda118.so\n",
            "Loading the extension \"gallery\"... Ok.\n",
            "Running on local URL:  http://127.0.0.1:7860\n",
            "Running on public URL: https://8ee279b648501cebee.gradio.live\n",
            "\n",
            "This share link expires in 72 hours. For free permanent hosting and GPU upgrades (NEW!), check out Spaces: https://huggingface.co/spaces\n",
            "Loading sheldonxxxx_llama-vicuna-7b...\n",
            "Loading checkpoint shards: 100% 2/2 [01:31<00:00, 45.89s/it]\n",
            "Replaced attention with xformers_attention\n",
            "Loaded the model in 94.82 seconds.\n"
          ]
        },
        {
          "output_type": "error",
          "ename": "KeyboardInterrupt",
          "evalue": "ignored",
          "traceback": [
            "\u001b[0;31m---------------------------------------------------------------------------\u001b[0m",
            "\u001b[0;31mKeyboardInterrupt\u001b[0m                         Traceback (most recent call last)",
            "\u001b[0;32m<ipython-input-10-59ab85496a6d>\u001b[0m in \u001b[0;36m<cell line: 25>\u001b[0;34m()\u001b[0m\n\u001b[1;32m     23\u001b[0m \u001b[0mtime\u001b[0m\u001b[0;34m.\u001b[0m\u001b[0msleep\u001b[0m\u001b[0;34m(\u001b[0m\u001b[0;36m10\u001b[0m\u001b[0;34m)\u001b[0m  \u001b[0;31m# Wait for the servers to start before sending any command\u001b[0m\u001b[0;34m\u001b[0m\u001b[0;34m\u001b[0m\u001b[0m\n\u001b[1;32m     24\u001b[0m \u001b[0mos\u001b[0m\u001b[0;34m.\u001b[0m\u001b[0mwrite\u001b[0m\u001b[0;34m(\u001b[0m\u001b[0mmaster\u001b[0m\u001b[0;34m,\u001b[0m \u001b[0;34mb\"your_command_here\\n\"\u001b[0m\u001b[0;34m)\u001b[0m  \u001b[0;31m# Replace 'your_command_here' with the actual command you want to send\u001b[0m\u001b[0;34m\u001b[0m\u001b[0;34m\u001b[0m\u001b[0m\n\u001b[0;32m---> 25\u001b[0;31m \u001b[0mthread\u001b[0m\u001b[0;34m.\u001b[0m\u001b[0mjoin\u001b[0m\u001b[0;34m(\u001b[0m\u001b[0;34m)\u001b[0m\u001b[0;34m\u001b[0m\u001b[0;34m\u001b[0m\u001b[0m\n\u001b[0m\u001b[1;32m     26\u001b[0m \u001b[0;34m\u001b[0m\u001b[0m\n\u001b[1;32m     27\u001b[0m \u001b[0;31m# Create a text input field and a button\u001b[0m\u001b[0;34m\u001b[0m\u001b[0;34m\u001b[0m\u001b[0m\n",
            "\u001b[0;32m/usr/lib/python3.9/threading.py\u001b[0m in \u001b[0;36mjoin\u001b[0;34m(self, timeout)\u001b[0m\n\u001b[1;32m   1058\u001b[0m \u001b[0;34m\u001b[0m\u001b[0m\n\u001b[1;32m   1059\u001b[0m         \u001b[0;32mif\u001b[0m \u001b[0mtimeout\u001b[0m \u001b[0;32mis\u001b[0m \u001b[0;32mNone\u001b[0m\u001b[0;34m:\u001b[0m\u001b[0;34m\u001b[0m\u001b[0;34m\u001b[0m\u001b[0m\n\u001b[0;32m-> 1060\u001b[0;31m             \u001b[0mself\u001b[0m\u001b[0;34m.\u001b[0m\u001b[0m_wait_for_tstate_lock\u001b[0m\u001b[0;34m(\u001b[0m\u001b[0;34m)\u001b[0m\u001b[0;34m\u001b[0m\u001b[0;34m\u001b[0m\u001b[0m\n\u001b[0m\u001b[1;32m   1061\u001b[0m         \u001b[0;32melse\u001b[0m\u001b[0;34m:\u001b[0m\u001b[0;34m\u001b[0m\u001b[0;34m\u001b[0m\u001b[0m\n\u001b[1;32m   1062\u001b[0m             \u001b[0;31m# the behavior of a negative timeout isn't documented, but\u001b[0m\u001b[0;34m\u001b[0m\u001b[0;34m\u001b[0m\u001b[0m\n",
            "\u001b[0;32m/usr/lib/python3.9/threading.py\u001b[0m in \u001b[0;36m_wait_for_tstate_lock\u001b[0;34m(self, block, timeout)\u001b[0m\n\u001b[1;32m   1078\u001b[0m \u001b[0;34m\u001b[0m\u001b[0m\n\u001b[1;32m   1079\u001b[0m         \u001b[0;32mtry\u001b[0m\u001b[0;34m:\u001b[0m\u001b[0;34m\u001b[0m\u001b[0;34m\u001b[0m\u001b[0m\n\u001b[0;32m-> 1080\u001b[0;31m             \u001b[0;32mif\u001b[0m \u001b[0mlock\u001b[0m\u001b[0;34m.\u001b[0m\u001b[0macquire\u001b[0m\u001b[0;34m(\u001b[0m\u001b[0mblock\u001b[0m\u001b[0;34m,\u001b[0m \u001b[0mtimeout\u001b[0m\u001b[0;34m)\u001b[0m\u001b[0;34m:\u001b[0m\u001b[0;34m\u001b[0m\u001b[0;34m\u001b[0m\u001b[0m\n\u001b[0m\u001b[1;32m   1081\u001b[0m                 \u001b[0mlock\u001b[0m\u001b[0;34m.\u001b[0m\u001b[0mrelease\u001b[0m\u001b[0;34m(\u001b[0m\u001b[0;34m)\u001b[0m\u001b[0;34m\u001b[0m\u001b[0;34m\u001b[0m\u001b[0m\n\u001b[1;32m   1082\u001b[0m                 \u001b[0mself\u001b[0m\u001b[0;34m.\u001b[0m\u001b[0m_stop\u001b[0m\u001b[0;34m(\u001b[0m\u001b[0;34m)\u001b[0m\u001b[0;34m\u001b[0m\u001b[0;34m\u001b[0m\u001b[0m\n",
            "\u001b[0;31mKeyboardInterrupt\u001b[0m: "
          ]
        }
      ]
    },
    {
      "cell_type": "code",
      "source": [],
      "metadata": {
        "id": "Qb4msYge8ZFY"
      },
      "execution_count": null,
      "outputs": []
    }
  ]
}